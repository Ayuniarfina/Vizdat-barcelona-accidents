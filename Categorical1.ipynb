{
  "nbformat": 4,
  "nbformat_minor": 0,
  "metadata": {
    "colab": {
      "name": "Categorical1.ipynb",
      "provenance": []
    },
    "kernelspec": {
      "name": "python3",
      "display_name": "Python 3"
    }
  },
  "cells": [
    {
      "cell_type": "markdown",
      "metadata": {
        "id": "Cx62f5K4iM9p"
      },
      "source": [
        "# Setup"
      ]
    },
    {
      "cell_type": "code",
      "metadata": {
        "id": "i6kp2WyDiqA6"
      },
      "source": [
        "%%sh\n",
        "pip install -q dash\n",
        "pip install -q dash_core_components\n",
        "pip install -q dash_html_components\n",
        "pip install -q dash_table"
      ],
      "execution_count": null,
      "outputs": []
    },
    {
      "cell_type": "code",
      "metadata": {
        "id": "uuHS64aNk6oK",
        "colab": {
          "base_uri": "https://localhost:8080/"
        },
        "outputId": "5b9689c5-b17e-43b3-fd26-81483fb37eaa"
      },
      "source": [
        "%%sh\n",
        "# get ngrok\n",
        "curl -O https://bin.equinox.io/c/4VmDzA7iaHb/ngrok-stable-linux-amd64.zip\n",
        "unzip ngrok-stable-linux-amd64.zip"
      ],
      "execution_count": null,
      "outputs": [
        {
          "output_type": "stream",
          "name": "stdout",
          "text": [
            "Archive:  ngrok-stable-linux-amd64.zip\n",
            "  inflating: ngrok                   \n"
          ]
        },
        {
          "output_type": "stream",
          "name": "stderr",
          "text": [
            "  % Total    % Received % Xferd  Average Speed   Time    Time     Time  Current\n",
            "                                 Dload  Upload   Total   Spent    Left  Speed\n",
            "\r  0     0    0     0    0     0      0      0 --:--:-- --:--:-- --:--:--     0\r100 13.1M  100 13.1M    0     0  19.8M      0 --:--:-- --:--:-- --:--:-- 19.8M\n"
          ]
        }
      ]
    },
    {
      "cell_type": "markdown",
      "metadata": {
        "id": "QVb3TaoVtFom"
      },
      "source": [
        "# Dash"
      ]
    },
    {
      "cell_type": "code",
      "metadata": {
        "id": "UUgY2lRniZY5",
        "colab": {
          "base_uri": "https://localhost:8080/"
        },
        "outputId": "17c70b20-94d7-45c7-822d-c01d5e59ecf9"
      },
      "source": [
        "from google.colab import drive\n",
        "drive.mount('/content/drive')"
      ],
      "execution_count": null,
      "outputs": [
        {
          "output_type": "stream",
          "name": "stdout",
          "text": [
            "Mounted at /content/drive\n"
          ]
        }
      ]
    },
    {
      "cell_type": "code",
      "metadata": {
        "id": "TPwPq0JLtMVQ",
        "colab": {
          "base_uri": "https://localhost:8080/"
        },
        "outputId": "9dcba004-3715-4143-faae-e97bc907fc43"
      },
      "source": [
        "%%writefile dash_app.py\n",
        "\n",
        "import dash\n",
        "from dash import dcc\n",
        "from dash import html\n",
        "import plotly.graph_objs as go\n",
        "import pandas as pd\n",
        "\n",
        "#external_stylesheets = ['https://codepen.io/chriddyp/pen/bWLwgP.css']\n",
        "df = pd.read_csv('/content/drive/Shared drives/DataViz Assignment/Projek Visualisasi Data (Tubes)/M2/dataset/accidents_2017.csv')\n",
        "\n",
        "accident_df=df\n",
        "accident_df['killed+injured'] = df['Mild injuries'] + df['Serious injuries'] + df['Victims']\n",
        "temp_df = accident_df.groupby(['District Name'])['killed+injured'].sum().sort_values(axis=0, ascending=False)\n",
        "\n",
        "\n",
        "trace0 = go.Bar(x = temp_df.index,\n",
        "                y = temp_df.values,\n",
        "                marker = dict(color=list(temp_df.values))\n",
        "                )\n",
        "\n",
        "data = [trace0]\n",
        "\n",
        "app = dash.Dash()\n",
        "app.layout = html.Div(children=[\n",
        "    html.H1(children='Barcelona Accident'),\n",
        "    html.Div(children=''''''),\n",
        "    dcc.Graph(\n",
        "        id='example-graph',\n",
        "        figure={\n",
        "            'data': [trace0],\n",
        "            'layout':\n",
        "            go.Layout(xaxis = dict(tickangle=-30),\n",
        "                      title='Top Districts Where People Killed and Injured in Accidents', barmode='group',\n",
        "                      xaxis_title=\"District\",\n",
        "                   yaxis_title=\"Victims\")\n",
        "        })\n",
        "])\n",
        "\n",
        "\n",
        "\n",
        "if __name__ == '__main__':\n",
        "    app.run_server(debug=True)"
      ],
      "execution_count": null,
      "outputs": [
        {
          "output_type": "stream",
          "name": "stdout",
          "text": [
            "Overwriting dash_app.py\n"
          ]
        }
      ]
    },
    {
      "cell_type": "code",
      "metadata": {
        "id": "5hKnCayGlyd_"
      },
      "source": [
        "# launch ngrok\n",
        "get_ipython().system_raw('./ngrok http 8050 &')"
      ],
      "execution_count": null,
      "outputs": []
    },
    {
      "cell_type": "code",
      "metadata": {
        "id": "UK2SIu8qsHPK",
        "colab": {
          "base_uri": "https://localhost:8080/"
        },
        "outputId": "909779d5-77ac-49eb-c3fe-f03d86253e6f"
      },
      "source": [
        "%%sh\n",
        "# get url with ngrok\n",
        "curl -s http://localhost:4040/api/tunnels | python3 -c \"import sys, json; print(json.load(sys.stdin)['tunnels'][0]['public_url'])\""
      ],
      "execution_count": null,
      "outputs": [
        {
          "output_type": "stream",
          "name": "stdout",
          "text": [
            "https://fd7c-35-226-139-22.ngrok.io\n"
          ]
        }
      ]
    },
    {
      "cell_type": "code",
      "metadata": {
        "id": "ycoF8TVXjos6",
        "colab": {
          "base_uri": "https://localhost:8080/"
        },
        "outputId": "0e479e2c-bc69-4215-a609-e2ee5cb38e75"
      },
      "source": [
        "!python dash_app.py"
      ],
      "execution_count": null,
      "outputs": [
        {
          "output_type": "stream",
          "name": "stdout",
          "text": [
            "Dash is running on http://127.0.0.1:8050/\n",
            "\n",
            " * Serving Flask app \"dash_app\" (lazy loading)\n",
            " * Environment: production\n",
            "\u001b[31m   WARNING: This is a development server. Do not use it in a production deployment.\u001b[0m\n",
            "\u001b[2m   Use a production WSGI server instead.\u001b[0m\n",
            " * Debug mode: on\n"
          ]
        }
      ]
    },
    {
      "cell_type": "code",
      "metadata": {
        "id": "TWJF-fKekaq0"
      },
      "source": [
        ""
      ],
      "execution_count": null,
      "outputs": []
    }
  ]
}