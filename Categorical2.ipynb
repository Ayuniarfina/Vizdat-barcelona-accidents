{
  "nbformat": 4,
  "nbformat_minor": 0,
  "metadata": {
    "colab": {
      "name": "Categorical2.ipynb",
      "provenance": []
    },
    "kernelspec": {
      "name": "python3",
      "display_name": "Python 3"
    }
  },
  "cells": [
    {
      "cell_type": "markdown",
      "metadata": {
        "id": "Cx62f5K4iM9p"
      },
      "source": [
        "# Setup"
      ]
    },
    {
      "cell_type": "code",
      "metadata": {
        "id": "i6kp2WyDiqA6"
      },
      "source": [
        "%%sh\n",
        "pip install -q dash\n",
        "pip install -q dash_core_components\n",
        "pip install -q dash_html_components\n",
        "pip install -q dash_table"
      ],
      "execution_count": null,
      "outputs": []
    },
    {
      "cell_type": "code",
      "metadata": {
        "id": "uuHS64aNk6oK",
        "colab": {
          "base_uri": "https://localhost:8080/"
        },
        "outputId": "df489574-8ebb-488d-bfa5-fd6e53303663"
      },
      "source": [
        "\n",
        "%%sh\n",
        "# get ngrok\n",
        "curl -O https://bin.equinox.io/c/4VmDzA7iaHb/ngrok-stable-linux-amd64.zip\n",
        "unzip ngrok-stable-linux-amd64.zip"
      ],
      "execution_count": null,
      "outputs": [
        {
          "output_type": "stream",
          "name": "stdout",
          "text": [
            "Archive:  ngrok-stable-linux-amd64.zip\n"
          ]
        },
        {
          "output_type": "stream",
          "name": "stderr",
          "text": [
            "  % Total    % Received % Xferd  Average Speed   Time    Time     Time  Current\n",
            "                                 Dload  Upload   Total   Spent    Left  Speed\n",
            "\r  0     0    0     0    0     0      0      0 --:--:-- --:--:-- --:--:--     0\r  0     0    0     0    0     0      0      0 --:--:-- --:--:-- --:--:--     0\r100 13.1M  100 13.1M    0     0  31.4M      0 --:--:-- --:--:-- --:--:-- 31.3M\n",
            "replace ngrok? [y]es, [n]o, [A]ll, [N]one, [r]ename:  NULL\n",
            "(EOF or read error, treating as \"[N]one\" ...)\n"
          ]
        }
      ]
    },
    {
      "cell_type": "markdown",
      "metadata": {
        "id": "QVb3TaoVtFom"
      },
      "source": [
        "# Dash"
      ]
    },
    {
      "cell_type": "code",
      "metadata": {
        "id": "UUgY2lRniZY5",
        "colab": {
          "base_uri": "https://localhost:8080/"
        },
        "outputId": "2b454a4e-4e5e-454b-ce6f-ff1e17927af6"
      },
      "source": [
        "from google.colab import drive\n",
        "drive.mount('/content/drive')"
      ],
      "execution_count": null,
      "outputs": [
        {
          "output_type": "stream",
          "name": "stdout",
          "text": [
            "Drive already mounted at /content/drive; to attempt to forcibly remount, call drive.mount(\"/content/drive\", force_remount=True).\n"
          ]
        }
      ]
    },
    {
      "cell_type": "code",
      "metadata": {
        "id": "TPwPq0JLtMVQ",
        "colab": {
          "base_uri": "https://localhost:8080/"
        },
        "outputId": "95c376b0-27f8-4ba8-b9b8-a880d4c1c16d"
      },
      "source": [
        "%%writefile dash_app.py\n",
        "\n",
        "import dash\n",
        "from dash import dcc\n",
        "from dash import html\n",
        "import plotly.graph_objs as go\n",
        "import pandas as pd\n",
        "\n",
        "#external_stylesheets = ['https://codepen.io/chriddyp/pen/bWLwgP.css']\n",
        "df = pd.read_csv('/content/drive/Shared drives/DataViz Assignment/Projek Visualisasi Data (Tubes)/M2/dataset/accidents_2017.csv')\n",
        "\n",
        "accident_df=df\n",
        "accident_df['killed+injured'] = df['Mild injuries'] + df['Serious injuries'] + df['Victims']\n",
        "\n",
        "\n",
        "wkday = accident_df.groupby(['Weekday']).\\\n",
        "        agg({'Mild injuries':'sum', 'Serious injuries':'sum'}).reset_index()\n",
        "wkday\n",
        "\n",
        "ordered_days = [\"Monday\", \"Tuesday\", \"Wednesday\", \"Thursday\", \"Friday\", \"Saturday\",\n",
        "      \"Sunday\"]\n",
        "\n",
        "# sorting data accoring to ordered_days\n",
        "wkday['to_sort']=wkday['Weekday'].apply(lambda x:ordered_days.index(x))\n",
        "wkday1 = wkday.sort_values('to_sort')\n",
        "\n",
        "trace0 = go.Bar(x = wkday1['Weekday'],\n",
        "                y= wkday1['Mild injuries'],\n",
        "                name = \"Mild injuries\",\n",
        "                marker = dict(color='rgb(108, 52, 131)')\n",
        "               )\n",
        "\n",
        "trace1 = go.Bar(x = wkday1['Weekday'],\n",
        "                y = wkday1['Serious injuries'],\n",
        "                name = \"Serious injuries\",\n",
        "                marker = dict(color='rgb(241, 196, 15)')\n",
        "               )\n",
        "\n",
        "\n",
        "data = [trace0,trace1]\n",
        "\n",
        "app = dash.Dash()\n",
        "app.layout = html.Div(children=[\n",
        "    html.H1(children='Barcelona Accident'),\n",
        "    html.Div(children=''''''),\n",
        "    dcc.Graph(\n",
        "        id='example-graph',\n",
        "        figure={\n",
        "            'data': [trace0, trace1],\n",
        "            'layout':\n",
        "            go.Layout(xaxis = dict(tickangle=-30),\n",
        "                      title='Weekday-Wise Accidents in Barcelona', barmode='group',\n",
        "                      xaxis_title=\"Weekday\",\n",
        "                   yaxis_title=\"Victims\")\n",
        "        })\n",
        "])\n",
        "\n",
        "\n",
        "\n",
        "if __name__ == '__main__':\n",
        "    app.run_server(debug=True)"
      ],
      "execution_count": null,
      "outputs": [
        {
          "output_type": "stream",
          "name": "stdout",
          "text": [
            "Overwriting dash_app.py\n"
          ]
        }
      ]
    },
    {
      "cell_type": "code",
      "metadata": {
        "id": "5hKnCayGlyd_"
      },
      "source": [
        "# launch ngrok\n",
        "get_ipython().system_raw('./ngrok http 8050 &')"
      ],
      "execution_count": null,
      "outputs": []
    },
    {
      "cell_type": "code",
      "metadata": {
        "id": "UK2SIu8qsHPK",
        "colab": {
          "base_uri": "https://localhost:8080/"
        },
        "outputId": "893a5f66-485f-4336-ffff-18922d70e8ae"
      },
      "source": [
        "%%sh\n",
        "# get url with ngrok\n",
        "curl -s http://localhost:4040/api/tunnels | python3 -c \"import sys, json; print(json.load(sys.stdin)['tunnels'][0]['public_url'])\""
      ],
      "execution_count": null,
      "outputs": [
        {
          "output_type": "stream",
          "name": "stdout",
          "text": [
            "http://30a9-34-74-151-134.ngrok.io\n"
          ]
        }
      ]
    },
    {
      "cell_type": "code",
      "metadata": {
        "id": "ycoF8TVXjos6",
        "colab": {
          "base_uri": "https://localhost:8080/"
        },
        "outputId": "6ab4be0c-df18-4e84-a272-0098b59d5791"
      },
      "source": [
        "!python dash_app.py"
      ],
      "execution_count": null,
      "outputs": [
        {
          "output_type": "stream",
          "name": "stdout",
          "text": [
            "Dash is running on http://127.0.0.1:8050/\n",
            "\n",
            " * Serving Flask app \"dash_app\" (lazy loading)\n",
            " * Environment: production\n",
            "\u001b[31m   WARNING: This is a development server. Do not use it in a production deployment.\u001b[0m\n",
            "\u001b[2m   Use a production WSGI server instead.\u001b[0m\n",
            " * Debug mode: on\n"
          ]
        }
      ]
    },
    {
      "cell_type": "code",
      "metadata": {
        "id": "TWJF-fKekaq0"
      },
      "source": [
        ""
      ],
      "execution_count": null,
      "outputs": []
    }
  ]
}